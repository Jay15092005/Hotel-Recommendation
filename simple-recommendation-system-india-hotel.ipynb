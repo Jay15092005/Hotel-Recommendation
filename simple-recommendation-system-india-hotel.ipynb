{
 "cells": [
  {
   "cell_type": "code",
   "execution_count": 2,
   "id": "f8260a6c",
   "metadata": {
    "_cell_guid": "b1076dfc-b9ad-4769-8c92-a6c4dae69d19",
    "_uuid": "8f2839f25d086af736a60e9eeb907d3b93b6e0e5",
    "execution": {
     "iopub.execute_input": "2023-07-13T14:32:00.419532Z",
     "iopub.status.busy": "2023-07-13T14:32:00.418451Z",
     "iopub.status.idle": "2023-07-13T14:32:00.444752Z",
     "shell.execute_reply": "2023-07-13T14:32:00.443912Z"
    },
    "papermill": {
     "duration": 0.034491,
     "end_time": "2023-07-13T14:32:00.446558",
     "exception": false,
     "start_time": "2023-07-13T14:32:00.412067",
     "status": "completed"
    },
    "tags": []
   },
   "outputs": [],
   "source": [
    "\n",
    "import numpy as np\n",
    "import pandas as pd \n",
    "import streamlit as st"
   ]
  },
  {
   "cell_type": "code",
   "execution_count": 3,
   "id": "87a0c557",
   "metadata": {
    "execution": {
     "iopub.execute_input": "2023-07-13T14:32:00.456134Z",
     "iopub.status.busy": "2023-07-13T14:32:00.455366Z",
     "iopub.status.idle": "2023-07-13T14:32:00.502916Z",
     "shell.execute_reply": "2023-07-13T14:32:00.501769Z"
    },
    "papermill": {
     "duration": 0.054619,
     "end_time": "2023-07-13T14:32:00.505144",
     "exception": false,
     "start_time": "2023-07-13T14:32:00.450525",
     "status": "completed"
    },
    "tags": []
   },
   "outputs": [
    {
     "data": {
      "text/html": [
       "<div>\n",
       "<style scoped>\n",
       "    .dataframe tbody tr th:only-of-type {\n",
       "        vertical-align: middle;\n",
       "    }\n",
       "\n",
       "    .dataframe tbody tr th {\n",
       "        vertical-align: top;\n",
       "    }\n",
       "\n",
       "    .dataframe thead th {\n",
       "        text-align: right;\n",
       "    }\n",
       "</style>\n",
       "<table border=\"1\" class=\"dataframe\">\n",
       "  <thead>\n",
       "    <tr style=\"text-align: right;\">\n",
       "      <th></th>\n",
       "      <th>S.No.</th>\n",
       "      <th>State</th>\n",
       "      <th>City</th>\n",
       "      <th>Category</th>\n",
       "      <th>Alcohol</th>\n",
       "      <th>Hotel Name</th>\n",
       "      <th>Address</th>\n",
       "      <th>Start Date</th>\n",
       "      <th>Expiry Date</th>\n",
       "      <th>Total Rooms</th>\n",
       "    </tr>\n",
       "  </thead>\n",
       "  <tbody>\n",
       "    <tr>\n",
       "      <th>0</th>\n",
       "      <td>1</td>\n",
       "      <td>Delhi</td>\n",
       "      <td>New Delhi</td>\n",
       "      <td>1 Star</td>\n",
       "      <td>NaN</td>\n",
       "      <td>Hotel LA (A unit of L A Hotels And Retreats Pv...</td>\n",
       "      <td>plot no A-1, Community Centre, Road No 43, Man...</td>\n",
       "      <td>20/01/2020</td>\n",
       "      <td>19/01/2025</td>\n",
       "      <td>35</td>\n",
       "    </tr>\n",
       "    <tr>\n",
       "      <th>1</th>\n",
       "      <td>2</td>\n",
       "      <td>Gujarat</td>\n",
       "      <td>Adalaj</td>\n",
       "      <td>1 Star</td>\n",
       "      <td>NaN</td>\n",
       "      <td>Amba Suites, Unit of Amba Township Private Lim...</td>\n",
       "      <td>Amba Business Park, Shivam â€“ II, Sub-Plot No...</td>\n",
       "      <td>15/07/2022</td>\n",
       "      <td>14/07/2027</td>\n",
       "      <td>64</td>\n",
       "    </tr>\n",
       "    <tr>\n",
       "      <th>2</th>\n",
       "      <td>3</td>\n",
       "      <td>Gujarat</td>\n",
       "      <td>Ahmedabad</td>\n",
       "      <td>1 Star</td>\n",
       "      <td>NaN</td>\n",
       "      <td>Hotel Pragati The Grand (A Unit of Pragati The...</td>\n",
       "      <td>SP-2,FP 2342,PAIKI, NR ZYDUS CADILA HOSPITAL,H...</td>\n",
       "      <td>22/09/2021</td>\n",
       "      <td>21/09/2026</td>\n",
       "      <td>45</td>\n",
       "    </tr>\n",
       "    <tr>\n",
       "      <th>3</th>\n",
       "      <td>4</td>\n",
       "      <td>Gujarat</td>\n",
       "      <td>Ahmedabad</td>\n",
       "      <td>1 Star</td>\n",
       "      <td>NaN</td>\n",
       "      <td>Hotel Rezaas</td>\n",
       "      <td>375-1, Sheetal Baug, Nr. Girish Cold Drink, Of...</td>\n",
       "      <td>31/10/2018</td>\n",
       "      <td>30/10/2023</td>\n",
       "      <td>38</td>\n",
       "    </tr>\n",
       "    <tr>\n",
       "      <th>4</th>\n",
       "      <td>5</td>\n",
       "      <td>Gujarat</td>\n",
       "      <td>Anand</td>\n",
       "      <td>1 Star</td>\n",
       "      <td>NaN</td>\n",
       "      <td>HOTEL ARIZONA INN</td>\n",
       "      <td>OPP. S R PARK, ANAND- SOJITRA ROAD, ANAND- 388001</td>\n",
       "      <td>01/09/2020</td>\n",
       "      <td>31/08/2025</td>\n",
       "      <td>28</td>\n",
       "    </tr>\n",
       "  </tbody>\n",
       "</table>\n",
       "</div>"
      ],
      "text/plain": [
       "   S.No.    State       City Category Alcohol  \\\n",
       "0      1    Delhi  New Delhi   1 Star     NaN   \n",
       "1      2  Gujarat     Adalaj   1 Star     NaN   \n",
       "2      3  Gujarat  Ahmedabad   1 Star     NaN   \n",
       "3      4  Gujarat  Ahmedabad   1 Star     NaN   \n",
       "4      5  Gujarat      Anand   1 Star     NaN   \n",
       "\n",
       "                                          Hotel Name  \\\n",
       "0  Hotel LA (A unit of L A Hotels And Retreats Pv...   \n",
       "1  Amba Suites, Unit of Amba Township Private Lim...   \n",
       "2  Hotel Pragati The Grand (A Unit of Pragati The...   \n",
       "3                                       Hotel Rezaas   \n",
       "4                                  HOTEL ARIZONA INN   \n",
       "\n",
       "                                             Address  Start Date Expiry Date  \\\n",
       "0  plot no A-1, Community Centre, Road No 43, Man...  20/01/2020  19/01/2025   \n",
       "1  Amba Business Park, Shivam â€“ II, Sub-Plot No...  15/07/2022  14/07/2027   \n",
       "2  SP-2,FP 2342,PAIKI, NR ZYDUS CADILA HOSPITAL,H...  22/09/2021  21/09/2026   \n",
       "3  375-1, Sheetal Baug, Nr. Girish Cold Drink, Of...  31/10/2018  30/10/2023   \n",
       "4  OPP. S R PARK, ANAND- SOJITRA ROAD, ANAND- 388001  01/09/2020  31/08/2025   \n",
       "\n",
       "   Total Rooms  \n",
       "0           35  \n",
       "1           64  \n",
       "2           45  \n",
       "3           38  \n",
       "4           28  "
      ]
     },
     "execution_count": 3,
     "metadata": {},
     "output_type": "execute_result"
    }
   ],
   "source": [
    "df = pd.read_csv(\"/Users/jaychotaliya/Downloads/Hotel Recommandation/csv_data.csv\")\n",
    "df.head()"
   ]
  },
  {
   "cell_type": "markdown",
   "id": "5fec21a9",
   "metadata": {
    "papermill": {
     "duration": 0.003965,
     "end_time": "2023-07-13T14:32:00.513595",
     "exception": false,
     "start_time": "2023-07-13T14:32:00.509630",
     "status": "completed"
    },
    "tags": []
   },
   "source": [
    "**Check for Missing Values**"
   ]
  },
  {
   "cell_type": "code",
   "execution_count": 4,
   "id": "a40954a0",
   "metadata": {
    "execution": {
     "iopub.execute_input": "2023-07-13T14:32:00.523778Z",
     "iopub.status.busy": "2023-07-13T14:32:00.523234Z",
     "iopub.status.idle": "2023-07-13T14:32:00.536754Z",
     "shell.execute_reply": "2023-07-13T14:32:00.535378Z"
    },
    "papermill": {
     "duration": 0.02146,
     "end_time": "2023-07-13T14:32:00.539230",
     "exception": false,
     "start_time": "2023-07-13T14:32:00.517770",
     "status": "completed"
    },
    "tags": []
   },
   "outputs": [
    {
     "data": {
      "text/plain": [
       "S.No.            0\n",
       "State            0\n",
       "City             0\n",
       "Category         0\n",
       "Alcohol        536\n",
       "Hotel Name       0\n",
       "Address          0\n",
       "Start Date       0\n",
       "Expiry Date      0\n",
       "Total Rooms      0\n",
       "dtype: int64"
      ]
     },
     "execution_count": 4,
     "metadata": {},
     "output_type": "execute_result"
    }
   ],
   "source": [
    "missing_values = df.isnull().sum()\n",
    "missing_values"
   ]
  },
  {
   "cell_type": "markdown",
   "id": "bdca0dbe",
   "metadata": {
    "papermill": {
     "duration": 0.004027,
     "end_time": "2023-07-13T14:32:00.547928",
     "exception": false,
     "start_time": "2023-07-13T14:32:00.543901",
     "status": "completed"
    },
    "tags": []
   },
   "source": [
    "**Checking the number of unique values in each column**"
   ]
  },
  {
   "cell_type": "code",
   "execution_count": 5,
   "id": "61dde0f8",
   "metadata": {
    "execution": {
     "iopub.execute_input": "2023-07-13T14:32:00.558515Z",
     "iopub.status.busy": "2023-07-13T14:32:00.557919Z",
     "iopub.status.idle": "2023-07-13T14:32:00.574866Z",
     "shell.execute_reply": "2023-07-13T14:32:00.573727Z"
    },
    "papermill": {
     "duration": 0.025053,
     "end_time": "2023-07-13T14:32:00.577445",
     "exception": false,
     "start_time": "2023-07-13T14:32:00.552392",
     "status": "completed"
    },
    "tags": []
   },
   "outputs": [
    {
     "data": {
      "text/plain": [
       "S.No.          1212\n",
       "State            30\n",
       "City            247\n",
       "Category          5\n",
       "Alcohol           2\n",
       "Hotel Name     1185\n",
       "Address        1210\n",
       "Start Date      340\n",
       "Expiry Date     342\n",
       "Total Rooms     253\n",
       "dtype: int64"
      ]
     },
     "execution_count": 5,
     "metadata": {},
     "output_type": "execute_result"
    }
   ],
   "source": [
    "unique_values = df.nunique()\n",
    "unique_values"
   ]
  },
  {
   "cell_type": "markdown",
   "id": "1a4d8264",
   "metadata": {
    "papermill": {
     "duration": 0.003947,
     "end_time": "2023-07-13T14:32:00.585878",
     "exception": false,
     "start_time": "2023-07-13T14:32:00.581931",
     "status": "completed"
    },
    "tags": []
   },
   "source": [
    "**Getting basic statistical summary for numeric column 'Total Rooms'**"
   ]
  },
  {
   "cell_type": "code",
   "execution_count": 6,
   "id": "000fa84a",
   "metadata": {
    "execution": {
     "iopub.execute_input": "2023-07-13T14:32:00.595979Z",
     "iopub.status.busy": "2023-07-13T14:32:00.595620Z",
     "iopub.status.idle": "2023-07-13T14:32:00.608511Z",
     "shell.execute_reply": "2023-07-13T14:32:00.606925Z"
    },
    "papermill": {
     "duration": 0.020936,
     "end_time": "2023-07-13T14:32:00.611058",
     "exception": false,
     "start_time": "2023-07-13T14:32:00.590122",
     "status": "completed"
    },
    "tags": []
   },
   "outputs": [
    {
     "data": {
      "text/plain": [
       "count    1212.000000\n",
       "mean       75.646865\n",
       "std        93.098648\n",
       "min        10.000000\n",
       "25%        15.000000\n",
       "50%        41.000000\n",
       "75%       102.000000\n",
       "max      1024.000000\n",
       "Name: Total Rooms, dtype: float64"
      ]
     },
     "execution_count": 6,
     "metadata": {},
     "output_type": "execute_result"
    }
   ],
   "source": [
    "stat_summary = df['Total Rooms'].describe()\n",
    "stat_summary"
   ]
  },
  {
   "cell_type": "markdown",
   "id": "87e1f5a4",
   "metadata": {
    "papermill": {
     "duration": 0.004098,
     "end_time": "2023-07-13T14:32:00.619988",
     "exception": false,
     "start_time": "2023-07-13T14:32:00.615890",
     "status": "completed"
    },
    "tags": []
   },
   "source": [
    "**Distribution of hotels across states**"
   ]
  },
  {
   "cell_type": "code",
   "execution_count": 7,
   "id": "dbc87037",
   "metadata": {
    "execution": {
     "iopub.execute_input": "2023-07-13T14:32:00.630180Z",
     "iopub.status.busy": "2023-07-13T14:32:00.629841Z",
     "iopub.status.idle": "2023-07-13T14:32:00.640543Z",
     "shell.execute_reply": "2023-07-13T14:32:00.639027Z"
    },
    "papermill": {
     "duration": 0.018766,
     "end_time": "2023-07-13T14:32:00.643028",
     "exception": false,
     "start_time": "2023-07-13T14:32:00.624262",
     "status": "completed"
    },
    "tags": []
   },
   "outputs": [
    {
     "data": {
      "text/plain": [
       "State\n",
       "Kerala                 557\n",
       "Gujarat                144\n",
       "Maharashtra             81\n",
       "West Bengal             47\n",
       "Delhi                   42\n",
       "Karnataka               39\n",
       "Goa                     38\n",
       "Andhra Pradesh          32\n",
       "Haryana                 28\n",
       "Chhattisgarh            27\n",
       "Tamil Nadu              26\n",
       "Telangana               21\n",
       "Rajasthan               20\n",
       "Uttar Pradesh           19\n",
       "Madhya Pradesh          16\n",
       "Assam                   16\n",
       "Odisha                  15\n",
       "Punjab                  12\n",
       "Uttarakhand              7\n",
       "Himachal Pradesh         5\n",
       "Andaman And Nicobar      4\n",
       "Bihar                    3\n",
       "Arunachal Pradesh        3\n",
       "DNH & DD                 2\n",
       "Jharkhand                2\n",
       "Chandigarh               2\n",
       "Meghalaya                1\n",
       "Manipur                  1\n",
       "Tripura                  1\n",
       "Ladakh                   1\n",
       "Name: count, dtype: int64"
      ]
     },
     "execution_count": 7,
     "metadata": {},
     "output_type": "execute_result"
    }
   ],
   "source": [
    "state_distribution = df['State'].value_counts()\n",
    "\n",
    "state_distribution"
   ]
  },
  {
   "cell_type": "markdown",
   "id": "cc634f56",
   "metadata": {
    "papermill": {
     "duration": 0.004181,
     "end_time": "2023-07-13T14:32:00.653576",
     "exception": false,
     "start_time": "2023-07-13T14:32:00.649395",
     "status": "completed"
    },
    "tags": []
   },
   "source": [
    "**Distribution of hotel categories**"
   ]
  },
  {
   "cell_type": "code",
   "execution_count": 8,
   "id": "70e98001",
   "metadata": {
    "execution": {
     "iopub.execute_input": "2023-07-13T14:32:00.664248Z",
     "iopub.status.busy": "2023-07-13T14:32:00.663506Z",
     "iopub.status.idle": "2023-07-13T14:32:00.672444Z",
     "shell.execute_reply": "2023-07-13T14:32:00.671286Z"
    },
    "papermill": {
     "duration": 0.016639,
     "end_time": "2023-07-13T14:32:00.674553",
     "exception": false,
     "start_time": "2023-07-13T14:32:00.657914",
     "status": "completed"
    },
    "tags": []
   },
   "outputs": [
    {
     "data": {
      "text/plain": [
       "Category\n",
       "3 Star    497\n",
       "4 Star    338\n",
       "5 Star    338\n",
       "2 Star     23\n",
       "1 Star     16\n",
       "Name: count, dtype: int64"
      ]
     },
     "execution_count": 8,
     "metadata": {},
     "output_type": "execute_result"
    }
   ],
   "source": [
    "category_distribution = df['Category'].value_counts()\n",
    "category_distribution"
   ]
  },
  {
   "cell_type": "code",
   "execution_count": 9,
   "id": "c329a87e",
   "metadata": {
    "execution": {
     "iopub.execute_input": "2023-07-13T14:32:00.685337Z",
     "iopub.status.busy": "2023-07-13T14:32:00.684968Z",
     "iopub.status.idle": "2023-07-13T14:32:00.702763Z",
     "shell.execute_reply": "2023-07-13T14:32:00.701159Z"
    },
    "papermill": {
     "duration": 0.025802,
     "end_time": "2023-07-13T14:32:00.705100",
     "exception": false,
     "start_time": "2023-07-13T14:32:00.679298",
     "status": "completed"
    },
    "tags": []
   },
   "outputs": [
    {
     "data": {
      "text/plain": [
       "(Alcohol\n",
       " NaN                536\n",
       " With Alcohol       492\n",
       " Without Alcohol    184\n",
       " Name: count, dtype: int64,\n",
       " (Timestamp('2016-02-08 00:00:00'), Timestamp('2023-01-11 00:00:00')),\n",
       " (Timestamp('2023-07-03 00:00:00'), Timestamp('2028-01-10 00:00:00')))"
      ]
     },
     "execution_count": 9,
     "metadata": {},
     "output_type": "execute_result"
    }
   ],
   "source": [
    "# Converting 'Start Date' and 'Expiry Date' to datetime format\n",
    "df['Start Date'] = pd.to_datetime(df['Start Date'], dayfirst=True)\n",
    "df['Expiry Date'] = pd.to_datetime(df['Expiry Date'], dayfirst=True)\n",
    "\n",
    "# Checking the distribution of the 'Alcohol' column\n",
    "alcohol_distribution = df['Alcohol'].value_counts(dropna=False)\n",
    "\n",
    "# Checking the range of 'Start Date' and 'Expiry Date'\n",
    "start_date_range = df['Start Date'].min(), df['Start Date'].max()\n",
    "expiry_date_range = df['Expiry Date'].min(), df['Expiry Date'].max()\n",
    "\n",
    "alcohol_distribution, start_date_range, expiry_date_range"
   ]
  },
  {
   "cell_type": "markdown",
   "id": "b334701b",
   "metadata": {
    "papermill": {
     "duration": 0.004526,
     "end_time": "2023-07-13T14:32:00.714696",
     "exception": false,
     "start_time": "2023-07-13T14:32:00.710170",
     "status": "completed"
    },
    "tags": []
   },
   "source": [
    "**Building a simple recommendation system for the user if they want alcohol or not\n",
    "based on the preference city,state and category**"
   ]
  },
  {
   "cell_type": "code",
   "execution_count": 10,
   "id": "37e998fe",
   "metadata": {
    "execution": {
     "iopub.execute_input": "2023-07-13T14:32:00.725363Z",
     "iopub.status.busy": "2023-07-13T14:32:00.725035Z",
     "iopub.status.idle": "2023-07-13T14:32:00.735597Z",
     "shell.execute_reply": "2023-07-13T14:32:00.734301Z"
    },
    "papermill": {
     "duration": 0.018109,
     "end_time": "2023-07-13T14:32:00.737406",
     "exception": false,
     "start_time": "2023-07-13T14:32:00.719297",
     "status": "completed"
    },
    "tags": []
   },
   "outputs": [
    {
     "data": {
      "text/plain": [
       "Alcohol\n",
       "Unknown            536\n",
       "With Alcohol       492\n",
       "Without Alcohol    184\n",
       "Name: count, dtype: int64"
      ]
     },
     "execution_count": 10,
     "metadata": {},
     "output_type": "execute_result"
    }
   ],
   "source": [
    "#First of all we need to fill the missing values with 'Unknown'\n",
    "# Filling missing values in the 'Alcohol' column\n",
    "df['Alcohol'].fillna('Unknown', inplace=True)\n",
    "\n",
    "# Verifying the operation\n",
    "df['Alcohol'].value_counts(dropna=False)"
   ]
  },
  {
   "cell_type": "code",
   "execution_count": 11,
   "id": "bcaeff90",
   "metadata": {},
   "outputs": [
    {
     "name": "stdout",
     "output_type": "stream",
     "text": [
      "['Delhi', 'Gujarat', 'Madhya Pradesh', 'Maharashtra', 'Andaman And Nicobar', 'Assam', 'Himachal Pradesh', 'Kerala', 'Odisha', 'Rajasthan', 'Andhra Pradesh', 'Arunachal Pradesh', 'Bihar', 'Chhattisgarh', 'Goa', 'Haryana', 'Karnataka', 'Manipur', 'Meghalaya', 'Punjab', 'Tamil Nadu', 'Telangana', 'Uttar Pradesh', 'Uttarakhand', 'West Bengal', 'DNH & DD', 'Jharkhand', 'Tripura', 'Chandigarh', 'Ladakh']\n"
     ]
    }
   ],
   "source": [
    "state_df=(df[\"State\"].unique()).tolist()\n",
    "print(state_df)\n",
    "state=input(\"Enter Your Destination State\")"
   ]
  },
  {
   "cell_type": "code",
   "execution_count": 12,
   "id": "c4ce5a12",
   "metadata": {},
   "outputs": [
    {
     "name": "stdout",
     "output_type": "stream",
     "text": [
      "['Adalaj', 'Ahmedabad', 'Anand', 'Bhavnagar', 'Gandhinagar', 'Morvi', 'Rajkot', 'Surat', 'Vadodara', 'Veraval', 'Dwarka', 'Gandhidham', 'Jamnagar', 'Kevadiya', 'Morabi', 'Navsari', 'Porbandar', 'Saurashtra', 'Bharuch', 'Bhuj', 'Dang', 'Kutch', 'Mahesana', 'Morbi', 'Sanand', 'Talaja', 'Vapi', 'Viramgam', 'Anjar', 'Junagadh', 'Pardi', 'Dabhou', 'Nadiad', 'Vijaynagar']\n"
     ]
    }
   ],
   "source": [
    "city_df=(df[df[\"State\"]==state][\"City\"].unique()).tolist()\n",
    "print(city_df)\n",
    "city=input(\"Enter Your Destination City\")"
   ]
  },
  {
   "cell_type": "code",
   "execution_count": 13,
   "id": "56ebe7a7",
   "metadata": {},
   "outputs": [
    {
     "name": "stdout",
     "output_type": "stream",
     "text": [
      "['1 Star', '3 Star', '5 Star']\n"
     ]
    }
   ],
   "source": [
    "\n",
    "Categories=(df[df[\"City\"]==city][\"Category\"].unique()).tolist()\n",
    "print(Categories)\n",
    "Categori=input(\"Enter Your categorie\")"
   ]
  },
  {
   "cell_type": "code",
   "execution_count": 14,
   "id": "c62396e7",
   "metadata": {},
   "outputs": [
    {
     "name": "stdout",
     "output_type": "stream",
     "text": [
      "[]\n"
     ]
    }
   ],
   "source": [
    "Alcohole=(df[df[\"Category\"]==Categori][\"Alcohol\"].unique()).tolist()\n",
    "print(Alcohole)\n",
    "alchi=input(\"Enter The Alcho Hole Type\")"
   ]
  },
  {
   "cell_type": "code",
   "execution_count": 15,
   "id": "da560a63",
   "metadata": {
    "execution": {
     "iopub.execute_input": "2023-07-13T14:32:00.749013Z",
     "iopub.status.busy": "2023-07-13T14:32:00.748580Z",
     "iopub.status.idle": "2023-07-13T14:32:00.770604Z",
     "shell.execute_reply": "2023-07-13T14:32:00.769636Z"
    },
    "papermill": {
     "duration": 0.030039,
     "end_time": "2023-07-13T14:32:00.772480",
     "exception": false,
     "start_time": "2023-07-13T14:32:00.742441",
     "status": "completed"
    },
    "tags": []
   },
   "outputs": [],
   "source": [
    "\n",
    "def recommend_hotels(state, city, Categori , alchi):\n",
    "    # Filter hotels based on user's preferences\n",
    "    recommended_hotels = df[(df['State'] == state) & (df['City'] == city) & (df['Category'] == Categori) & (df[\"Alcohol\"]==alchi)]\n",
    "    \n",
    "    # Sort hotels by alcohol availability\n",
    "    recommended_hotels = recommended_hotels.sort_values('Total Rooms', ascending=False)\n",
    "    \n",
    "    return recommended_hotels.iloc[:5,:]\n",
    "\n",
    "# Test the function\n",
    "\n",
    "\n",
    "\n"
   ]
  },
  {
   "cell_type": "code",
   "execution_count": 16,
   "id": "9fdf8522",
   "metadata": {},
   "outputs": [
    {
     "data": {
      "text/html": [
       "<div>\n",
       "<style scoped>\n",
       "    .dataframe tbody tr th:only-of-type {\n",
       "        vertical-align: middle;\n",
       "    }\n",
       "\n",
       "    .dataframe tbody tr th {\n",
       "        vertical-align: top;\n",
       "    }\n",
       "\n",
       "    .dataframe thead th {\n",
       "        text-align: right;\n",
       "    }\n",
       "</style>\n",
       "<table border=\"1\" class=\"dataframe\">\n",
       "  <thead>\n",
       "    <tr style=\"text-align: right;\">\n",
       "      <th></th>\n",
       "      <th>S.No.</th>\n",
       "      <th>State</th>\n",
       "      <th>City</th>\n",
       "      <th>Category</th>\n",
       "      <th>Alcohol</th>\n",
       "      <th>Hotel Name</th>\n",
       "      <th>Address</th>\n",
       "      <th>Start Date</th>\n",
       "      <th>Expiry Date</th>\n",
       "      <th>Total Rooms</th>\n",
       "    </tr>\n",
       "  </thead>\n",
       "  <tbody>\n",
       "  </tbody>\n",
       "</table>\n",
       "</div>"
      ],
      "text/plain": [
       "Empty DataFrame\n",
       "Columns: [S.No., State, City, Category, Alcohol, Hotel Name, Address, Start Date, Expiry Date, Total Rooms]\n",
       "Index: []"
      ]
     },
     "execution_count": 16,
     "metadata": {},
     "output_type": "execute_result"
    }
   ],
   "source": [
    "recommend_hotels(state, city, Categori , alchi)"
   ]
  },
  {
   "cell_type": "code",
   "execution_count": 17,
   "id": "60377579",
   "metadata": {},
   "outputs": [
    {
     "data": {
      "text/plain": [
       "['Adalaj',\n",
       " 'Ahmedabad',\n",
       " 'Ahmedabad',\n",
       " 'Anand',\n",
       " 'Bhavnagar',\n",
       " 'Gandhinagar',\n",
       " 'Gandhinagar',\n",
       " 'Morvi',\n",
       " 'Rajkot',\n",
       " 'Surat',\n",
       " 'Vadodara',\n",
       " 'Vadodara',\n",
       " 'Veraval',\n",
       " 'Dwarka',\n",
       " 'Gandhidham',\n",
       " 'Gandhidham',\n",
       " 'Gandhinagar',\n",
       " 'Jamnagar',\n",
       " 'Kevadiya',\n",
       " 'Morabi',\n",
       " 'Morvi',\n",
       " 'Navsari',\n",
       " 'Porbandar',\n",
       " 'Saurashtra',\n",
       " 'Vadodara',\n",
       " 'Ahmedabad',\n",
       " 'Ahmedabad',\n",
       " 'Ahmedabad',\n",
       " 'Ahmedabad',\n",
       " 'Ahmedabad',\n",
       " 'Ahmedabad',\n",
       " 'Ahmedabad',\n",
       " 'Ahmedabad',\n",
       " 'Ahmedabad',\n",
       " 'Ahmedabad',\n",
       " 'Ahmedabad',\n",
       " 'Ahmedabad',\n",
       " 'Ahmedabad',\n",
       " 'Ahmedabad',\n",
       " 'Anand',\n",
       " 'Anand',\n",
       " 'Bharuch',\n",
       " 'Bharuch',\n",
       " 'Bharuch',\n",
       " 'Bhavnagar',\n",
       " 'Bhavnagar',\n",
       " 'Bhuj',\n",
       " 'Bhuj',\n",
       " 'Bhuj',\n",
       " 'Bhuj',\n",
       " 'Bhuj',\n",
       " 'Dang',\n",
       " 'Dwarka',\n",
       " 'Jamnagar',\n",
       " 'Kutch',\n",
       " 'Mahesana',\n",
       " 'Morabi',\n",
       " 'Morbi',\n",
       " 'Morvi',\n",
       " 'Morvi',\n",
       " 'Morvi',\n",
       " 'Morvi',\n",
       " 'Morvi',\n",
       " 'Porbandar',\n",
       " 'Porbandar',\n",
       " 'Rajkot',\n",
       " 'Rajkot',\n",
       " 'Rajkot',\n",
       " 'Rajkot',\n",
       " 'Rajkot',\n",
       " 'Rajkot',\n",
       " 'Rajkot',\n",
       " 'Rajkot',\n",
       " 'Sanand',\n",
       " 'Saurashtra',\n",
       " 'Surat',\n",
       " 'Surat',\n",
       " 'Talaja',\n",
       " 'Vadodara',\n",
       " 'Vadodara',\n",
       " 'Vadodara',\n",
       " 'Vadodara',\n",
       " 'Vadodara',\n",
       " 'Vadodara',\n",
       " 'Vadodara',\n",
       " 'Vapi',\n",
       " 'Viramgam',\n",
       " 'Ahmedabad',\n",
       " 'Ahmedabad',\n",
       " 'Ahmedabad',\n",
       " 'Ahmedabad',\n",
       " 'Ahmedabad',\n",
       " 'Ahmedabad',\n",
       " 'Anjar',\n",
       " 'Dwarka',\n",
       " 'Dwarka',\n",
       " 'Gandhidham',\n",
       " 'Gandhidham',\n",
       " 'Gandhinagar',\n",
       " 'Jamnagar',\n",
       " 'Jamnagar',\n",
       " 'Jamnagar',\n",
       " 'Jamnagar',\n",
       " 'Junagadh',\n",
       " 'Kevadiya',\n",
       " 'Morvi',\n",
       " 'Pardi',\n",
       " 'Rajkot',\n",
       " 'Vadodara',\n",
       " 'Vadodara',\n",
       " 'Veraval',\n",
       " 'Ahmedabad',\n",
       " 'Ahmedabad',\n",
       " 'Ahmedabad',\n",
       " 'Anand',\n",
       " 'Gandhinagar',\n",
       " 'Ahmedabad',\n",
       " 'Ahmedabad',\n",
       " 'Ahmedabad',\n",
       " 'Ahmedabad',\n",
       " 'Ahmedabad',\n",
       " 'Ahmedabad',\n",
       " 'Ahmedabad',\n",
       " 'Ahmedabad',\n",
       " 'Ahmedabad',\n",
       " 'Ahmedabad',\n",
       " 'Ahmedabad',\n",
       " 'Dabhou',\n",
       " 'Dwarka',\n",
       " 'Gandhinagar',\n",
       " 'Junagadh',\n",
       " 'Junagadh',\n",
       " 'Nadiad',\n",
       " 'Rajkot',\n",
       " 'Rajkot',\n",
       " 'Rajkot',\n",
       " 'Surat',\n",
       " 'Surat',\n",
       " 'Surat',\n",
       " 'Surat',\n",
       " 'Vadodara',\n",
       " 'Vadodara',\n",
       " 'Vadodara',\n",
       " 'Vijaynagar']"
      ]
     },
     "execution_count": 17,
     "metadata": {},
     "output_type": "execute_result"
    }
   ],
   "source": [
    "list(df[df[\"State\"]==\"Gujarat\"][\"City\"])"
   ]
  },
  {
   "cell_type": "markdown",
   "id": "3fe6d8a2",
   "metadata": {
    "papermill": {
     "duration": 0.005462,
     "end_time": "2023-07-13T14:32:00.783157",
     "exception": false,
     "start_time": "2023-07-13T14:32:00.777695",
     "status": "completed"
    },
    "tags": []
   },
   "source": [
    "**Visualize the data**"
   ]
  },
  {
   "cell_type": "code",
   "execution_count": null,
   "id": "09e52171",
   "metadata": {
    "execution": {
     "iopub.execute_input": "2023-07-13T14:32:00.796542Z",
     "iopub.status.busy": "2023-07-13T14:32:00.796204Z",
     "iopub.status.idle": "2023-07-13T14:32:02.649728Z",
     "shell.execute_reply": "2023-07-13T14:32:02.647911Z"
    },
    "papermill": {
     "duration": 1.863108,
     "end_time": "2023-07-13T14:32:02.652435",
     "exception": false,
     "start_time": "2023-07-13T14:32:00.789327",
     "status": "completed"
    },
    "tags": []
   },
   "outputs": [],
   "source": []
  }
 ],
 "metadata": {
  "kernelspec": {
   "display_name": "Python 3",
   "language": "python",
   "name": "python3"
  },
  "language_info": {
   "codemirror_mode": {
    "name": "ipython",
    "version": 3
   },
   "file_extension": ".py",
   "mimetype": "text/x-python",
   "name": "python",
   "nbconvert_exporter": "python",
   "pygments_lexer": "ipython3",
   "version": "3.11.4"
  },
  "papermill": {
   "default_parameters": {},
   "duration": 11.903226,
   "end_time": "2023-07-13T14:32:03.581260",
   "environment_variables": {},
   "exception": null,
   "input_path": "__notebook__.ipynb",
   "output_path": "__notebook__.ipynb",
   "parameters": {},
   "start_time": "2023-07-13T14:31:51.678034",
   "version": "2.4.0"
  }
 },
 "nbformat": 4,
 "nbformat_minor": 5
}
